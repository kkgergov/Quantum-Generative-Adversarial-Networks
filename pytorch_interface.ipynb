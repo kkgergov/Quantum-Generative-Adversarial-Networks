{
 "cells": [
  {
   "cell_type": "code",
   "execution_count": null,
   "metadata": {},
   "outputs": [],
   "source": [
    "#!git clone https://github.com/kkgergov/Quantum-Generative-Adversarial-Networks.git\n",
    "#%cd Quantum-Generative-Adversarial-Networks"
   ]
  },
  {
   "cell_type": "code",
   "execution_count": 12,
   "metadata": {},
   "outputs": [],
   "source": [
    "import torch\n",
    "import torch.nn as nn\n",
    "import torch.optim as optim\n",
    "import torch.nn.functional as F\n",
    "import numpy as np\n",
    "import pennylane as qml\n",
    "import matplotlib.pyplot as plt\n",
    "from tqdm import tqdm\n",
    "\n",
    "import qGAN_state as qgs\n",
    "import qGAN_density as qgd"
   ]
  },
  {
   "cell_type": "code",
   "execution_count": null,
   "metadata": {},
   "outputs": [],
   "source": [
    "# Quantum State GAN\n",
    "\n",
    "print(\"Initializing Quantum GAN (State style)...\")\n",
    "qgan = qgs.QuantumGAN(num_qubits=2, num_layers=3)\n",
    "    \n",
    "print(\"Starting training...\")\n",
    "losses = qgan.train(epochs=200, batch_size=10, lr=0.01)\n",
    "    \n",
    "print(\"Training completed!\")\n",
    "\n",
    "# Density Matrix GAN\n",
    "\n",
    "# print(\"Initializing Quantum GAN with Paper's Methodology...\")\n",
    "# qgan = qgd.PaperQuantumGAN(num_qubits=2, num_layers=3)\n",
    "\n",
    "# print(\"Starting training...\")\n",
    "# losses = qgan.train(epochs=200, batch_size=1, lr=1e-2)  # Batch_size=1 as in paper\n",
    "\n",
    "# print(\"Training completed!\")\n",
    "\n",
    "# # Compare final states\n",
    "# target_state = np.load(\"target_state.npy\")\n",
    "# generated_state = np.load(\"generated_state.npy\")\n",
    "\n",
    "# # Convert to density matrices\n",
    "# rho_target = qgd.state_to_density(target_state)\n",
    "# rho_generated = qgd.state_to_density(generated_state)\n",
    "\n",
    "# # Visualize density matrices\n",
    "# fig, ax = plt.subplots(1, 2, figsize=(12, 6))\n",
    "\n",
    "# # Target density\n",
    "# im0 = ax[0].imshow(np.abs(rho_target), cmap='viridis')\n",
    "# ax[0].set_title(\"Target Density Matrix\")\n",
    "# plt.colorbar(im0, ax=ax[0])\n",
    "\n",
    "# # Generated density\n",
    "# im1 = ax[1].imshow(np.abs(rho_generated), cmap='viridis')\n",
    "# ax[1].set_title(\"Generated Density Matrix\")\n",
    "# plt.colorbar(im1, ax=ax[1])\n",
    "\n",
    "# plt.tight_layout()\n",
    "# plt.savefig(\"density_matrix_comparison.png\")\n",
    "# plt.show()"
   ]
  }
 ],
 "metadata": {
  "kernelspec": {
   "display_name": ".venv",
   "language": "python",
   "name": "python3"
  },
  "language_info": {
   "codemirror_mode": {
    "name": "ipython",
    "version": 3
   },
   "file_extension": ".py",
   "mimetype": "text/x-python",
   "name": "python",
   "nbconvert_exporter": "python",
   "pygments_lexer": "ipython3",
   "version": "3.10.12"
  }
 },
 "nbformat": 4,
 "nbformat_minor": 2
}
